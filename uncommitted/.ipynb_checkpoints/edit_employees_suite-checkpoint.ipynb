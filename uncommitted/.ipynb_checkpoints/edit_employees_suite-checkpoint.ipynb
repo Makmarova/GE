{
 "cells": [
  {
   "cell_type": "markdown",
   "id": "272010d1",
   "metadata": {},
   "source": [
    "# Initialize a new Expectation Suite by profiling a batch of your data.\n",
    "This process helps you avoid writing lots of boilerplate when authoring suites by allowing you to select columns and other factors that you care about and letting a profiler write some candidate expectations for you to adjust.\n",
    "\n",
    "**Expectation Suite Name**: `employees_suite`\n"
   ]
  },
  {
   "cell_type": "code",
   "execution_count": 2,
   "id": "fb10b945",
   "metadata": {},
   "outputs": [
    {
     "name": "stdout",
     "output_type": "stream",
     "text": [
      "2023-05-10T22:20:30+0200 - INFO - Great Expectations logging enabled at 20 level by JupyterUX module.\n",
      "2023-05-10T22:20:30+0200 - INFO - FileDataContext loading fluent config\n",
      "2023-05-10T22:20:30+0200 - INFO - Loading 'datasources' ->\n",
      "[]\n",
      "2023-05-10T22:20:30+0200 - INFO - Loaded 'datasources' ->\n",
      "[]\n"
     ]
    },
    {
     "data": {
      "application/vnd.jupyter.widget-view+json": {
       "model_id": "7aeefa0f8e5a45dfa9b07595114e1b82",
       "version_major": 2,
       "version_minor": 0
      },
      "text/plain": [
       "Calculating Metrics:   0%|          | 0/2 [00:00<?, ?it/s]"
      ]
     },
     "metadata": {},
     "output_type": "display_data"
    },
    {
     "name": "stdout",
     "output_type": "stream",
     "text": [
      "Columns: \"employee_id\", \"first_name\", \"last_name\", \"email\", \"phone_number\", \"hire_date\", \"job_id\", \"salary\", \"manager_id\", \"department_id\".\n"
     ]
    },
    {
     "data": {
      "application/vnd.jupyter.widget-view+json": {
       "model_id": "3cc0dcdea0bb4b5db6e8ba914608ed58",
       "version_major": 2,
       "version_minor": 0
      },
      "text/plain": [
       "Calculating Metrics:   0%|          | 0/1 [00:00<?, ?it/s]"
      ]
     },
     "metadata": {},
     "output_type": "display_data"
    },
    {
     "data": {
      "text/html": [
       "<div>\n",
       "<style scoped>\n",
       "    .dataframe tbody tr th:only-of-type {\n",
       "        vertical-align: middle;\n",
       "    }\n",
       "\n",
       "    .dataframe tbody tr th {\n",
       "        vertical-align: top;\n",
       "    }\n",
       "\n",
       "    .dataframe thead th {\n",
       "        text-align: right;\n",
       "    }\n",
       "</style>\n",
       "<table border=\"1\" class=\"dataframe\">\n",
       "  <thead>\n",
       "    <tr style=\"text-align: right;\">\n",
       "      <th></th>\n",
       "      <th>employee_id</th>\n",
       "      <th>first_name</th>\n",
       "      <th>last_name</th>\n",
       "      <th>email</th>\n",
       "      <th>phone_number</th>\n",
       "      <th>hire_date</th>\n",
       "      <th>job_id</th>\n",
       "      <th>salary</th>\n",
       "      <th>manager_id</th>\n",
       "      <th>department_id</th>\n",
       "    </tr>\n",
       "  </thead>\n",
       "  <tbody>\n",
       "    <tr>\n",
       "      <th>0</th>\n",
       "      <td>100</td>\n",
       "      <td>Steven</td>\n",
       "      <td>King</td>\n",
       "      <td>steven.king@sqltutorial.org</td>\n",
       "      <td>515.123.4567</td>\n",
       "      <td>1987-06-17</td>\n",
       "      <td>4</td>\n",
       "      <td>124000.0</td>\n",
       "      <td>NaN</td>\n",
       "      <td>9</td>\n",
       "    </tr>\n",
       "    <tr>\n",
       "      <th>1</th>\n",
       "      <td>101</td>\n",
       "      <td>Neena</td>\n",
       "      <td>Kochhar</td>\n",
       "      <td>neena.kochhar@sqltutorial.org</td>\n",
       "      <td>515.123.4568</td>\n",
       "      <td>1989-09-21</td>\n",
       "      <td>5</td>\n",
       "      <td>17000.0</td>\n",
       "      <td>NaN</td>\n",
       "      <td>9</td>\n",
       "    </tr>\n",
       "    <tr>\n",
       "      <th>2</th>\n",
       "      <td>102</td>\n",
       "      <td>Lex</td>\n",
       "      <td>De Haan</td>\n",
       "      <td>lex.de haan@sqltutorial.org</td>\n",
       "      <td>515.123.4569</td>\n",
       "      <td>1993-01-13</td>\n",
       "      <td>5</td>\n",
       "      <td>17000.0</td>\n",
       "      <td>NaN</td>\n",
       "      <td>9</td>\n",
       "    </tr>\n",
       "    <tr>\n",
       "      <th>3</th>\n",
       "      <td>103</td>\n",
       "      <td>Alexander</td>\n",
       "      <td>Hunold</td>\n",
       "      <td>alexander.hunold@sqltutorial.org</td>\n",
       "      <td>590.423.4567</td>\n",
       "      <td>1990-01-03</td>\n",
       "      <td>9</td>\n",
       "      <td>9000.0</td>\n",
       "      <td>102.0</td>\n",
       "      <td>6</td>\n",
       "    </tr>\n",
       "    <tr>\n",
       "      <th>4</th>\n",
       "      <td>104</td>\n",
       "      <td>Bruce</td>\n",
       "      <td>Ernst</td>\n",
       "      <td>bruce.ernst@sqltutorial.org</td>\n",
       "      <td>590.423.4568</td>\n",
       "      <td>1991-05-21</td>\n",
       "      <td>9</td>\n",
       "      <td>6000.0</td>\n",
       "      <td>103.0</td>\n",
       "      <td>6</td>\n",
       "    </tr>\n",
       "  </tbody>\n",
       "</table>\n",
       "</div>"
      ],
      "text/plain": [
       "   employee_id first_name last_name                             email  \\\n",
       "0          100     Steven      King       steven.king@sqltutorial.org   \n",
       "1          101      Neena   Kochhar     neena.kochhar@sqltutorial.org   \n",
       "2          102        Lex   De Haan       lex.de haan@sqltutorial.org   \n",
       "3          103  Alexander    Hunold  alexander.hunold@sqltutorial.org   \n",
       "4          104      Bruce     Ernst       bruce.ernst@sqltutorial.org   \n",
       "\n",
       "   phone_number  hire_date  job_id    salary  manager_id  department_id  \n",
       "0  515.123.4567 1987-06-17       4  124000.0         NaN              9  \n",
       "1  515.123.4568 1989-09-21       5   17000.0         NaN              9  \n",
       "2  515.123.4569 1993-01-13       5   17000.0         NaN              9  \n",
       "3  590.423.4567 1990-01-03       9    9000.0       102.0              6  \n",
       "4  590.423.4568 1991-05-21       9    6000.0       103.0              6  "
      ]
     },
     "execution_count": 2,
     "metadata": {},
     "output_type": "execute_result"
    }
   ],
   "source": [
    "import datetime\n",
    "\n",
    "import pandas as pd\n",
    "\n",
    "import great_expectations as gx\n",
    "import great_expectations.jupyter_ux\n",
    "from great_expectations.core.batch import BatchRequest\n",
    "from great_expectations.checkpoint import SimpleCheckpoint\n",
    "from great_expectations.exceptions import DataContextError\n",
    "\n",
    "context = gx.get_context()\n",
    "\n",
    "batch_request = {'datasource_name': 'test_datasource', 'data_connector_name': 'default_configured_data_connector_name', 'data_asset_name': 'employees', 'limit': 1000}\n",
    "\n",
    "expectation_suite_name = \"employees_suite\"\n",
    "\n",
    "validator = context.get_validator(\n",
    "    batch_request=BatchRequest(**batch_request),\n",
    "    expectation_suite_name=expectation_suite_name\n",
    ")\n",
    "column_names = [f'\"{column_name}\"' for column_name in validator.columns()]\n",
    "print(f\"Columns: {', '.join(column_names)}.\")\n",
    "validator.head(n_rows=5, fetch_all=False)"
   ]
  },
  {
   "cell_type": "markdown",
   "id": "a30579ab",
   "metadata": {},
   "source": [
    "# Select columns\n",
    "\n",
    "Select the columns on which you would like to set expectations and those which you would like to ignore.\n",
    "\n",
    "Great Expectations will choose which expectations might make sense for a column based on the **data type** and **cardinality** of the data in each selected column.\n",
    "\n",
    "Simply comment out columns that are important and should be included. You can select multiple lines and use a Jupyter\n",
    "keyboard shortcut to toggle each line: **Linux/Windows**:\n",
    "`Ctrl-/`, **macOS**: `Cmd-/`\n",
    "\n",
    "Other directives are shown (commented out) as examples of the depth of control possible (see documentation for details).\n"
   ]
  },
  {
   "cell_type": "code",
   "execution_count": 3,
   "id": "5eb4bab5",
   "metadata": {},
   "outputs": [],
   "source": [
    "exclude_column_names = [\n",
    "   ## \"employee_id\",\n",
    "    ##\"first_name\",\n",
    "    ##\"last_name\",\n",
    "    ##\"email\",\n",
    "    ##\"phone_number\",\n",
    "    ##\"hire_date\",\n",
    "    ##\"job_id\",\n",
    "    ##\"salary\",\n",
    "    ##\"manager_id\",\n",
    "    ##\"department_id\",\n",
    "]"
   ]
  },
  {
   "cell_type": "markdown",
   "id": "64c96f3a",
   "metadata": {},
   "source": [
    "# Run the OnboardingDataAssistant\n",
    "\n",
    "The suites generated here are **not meant to be production suites** -- they are **a starting point to build upon**.\n",
    "\n",
    "**To get to a production-grade suite, you will definitely want to [edit this\n",
    "suite](https://docs.greatexpectations.io/docs/guides/expectations/create_expectations_overview#editing-a-saved-expectation-suite)\n",
    "after this initial step gets you started on the path towards what you want.**\n",
    "\n",
    "This is highly configurable depending on your goals.\n",
    "You can ignore columns, specify cardinality of categorical columns, configure semantic types for columns, even adjust thresholds and/or different estimator parameters, etc.\n",
    "You can find more information about OnboardingDataAssistant and other DataAssistant components (please see documentation for the complete set of DataAssistant controls) [how to choose and control the behavior of the DataAssistant tailored to your goals](https://docs.greatexpectations.io/docs/guides/expectations/data_assistants/how_to_create_an_expectation_suite_with_the_onboarding_data_assistant).\n",
    "\n",
    "Performance considerations:\n",
    "- Latency: We optimized for an explicit \"question/answer\" design, which means we issue **lots** of queries. Connection latency will impact performance.\n",
    "- Data Volume: Small samples of data will often give you a great starting point for understanding the dataset. Consider configuring a sampled asset and profiling a small number of batches.\n",
    "    "
   ]
  },
  {
   "cell_type": "code",
   "execution_count": 4,
   "id": "e2dc8130",
   "metadata": {},
   "outputs": [
    {
     "name": "stdout",
     "output_type": "stream",
     "text": [
      "\n"
     ]
    },
    {
     "data": {
      "application/vnd.jupyter.widget-view+json": {
       "model_id": "ebf25a5ba1d14ad3b9e48259ad5c1cff",
       "version_major": 2,
       "version_minor": 0
      },
      "text/plain": [
       "Generating Expectations:   0%|          | 0/8 [00:00<?, ?it/s]"
      ]
     },
     "metadata": {},
     "output_type": "display_data"
    },
    {
     "data": {
      "application/vnd.jupyter.widget-view+json": {
       "model_id": "",
       "version_major": 2,
       "version_minor": 0
      },
      "text/plain": [
       "Profiling Dataset:         0%|          | 0/1 [00:00<?, ?it/s]"
      ]
     },
     "metadata": {},
     "output_type": "display_data"
    },
    {
     "data": {
      "application/vnd.jupyter.widget-view+json": {
       "model_id": "74c2522d98be47f8991fc91e4ceb0f82",
       "version_major": 2,
       "version_minor": 0
      },
      "text/plain": [
       "Calculating Metrics:   0%|          | 0/2 [00:00<?, ?it/s]"
      ]
     },
     "metadata": {},
     "output_type": "display_data"
    },
    {
     "data": {
      "application/vnd.jupyter.widget-view+json": {
       "model_id": "afc691e18b0047808286aae6083d45b6",
       "version_major": 2,
       "version_minor": 0
      },
      "text/plain": [
       "Calculating Metrics:   0%|          | 0/2 [00:00<?, ?it/s]"
      ]
     },
     "metadata": {},
     "output_type": "display_data"
    },
    {
     "data": {
      "application/vnd.jupyter.widget-view+json": {
       "model_id": "8f8f3daafa6245779974934c3c2cab63",
       "version_major": 2,
       "version_minor": 0
      },
      "text/plain": [
       "Calculating Metrics:   0%|          | 0/2 [00:00<?, ?it/s]"
      ]
     },
     "metadata": {},
     "output_type": "display_data"
    },
    {
     "data": {
      "application/vnd.jupyter.widget-view+json": {
       "model_id": "8063cfc4cdfb4e6c8b2352ea4b42b580",
       "version_major": 2,
       "version_minor": 0
      },
      "text/plain": [
       "Calculating Metrics:   0%|          | 0/2 [00:00<?, ?it/s]"
      ]
     },
     "metadata": {},
     "output_type": "display_data"
    },
    {
     "data": {
      "application/vnd.jupyter.widget-view+json": {
       "model_id": "220e69b8b94541f6821978a4157b0d3f",
       "version_major": 2,
       "version_minor": 0
      },
      "text/plain": [
       "Calculating Metrics:   0%|          | 0/1 [00:00<?, ?it/s]"
      ]
     },
     "metadata": {},
     "output_type": "display_data"
    },
    {
     "data": {
      "application/vnd.jupyter.widget-view+json": {
       "model_id": "544fcb759cee4fe08d5aa38c1982e598",
       "version_major": 2,
       "version_minor": 0
      },
      "text/plain": [
       "Calculating Metrics:   0%|          | 0/2 [00:00<?, ?it/s]"
      ]
     },
     "metadata": {},
     "output_type": "display_data"
    },
    {
     "data": {
      "application/vnd.jupyter.widget-view+json": {
       "model_id": "6445fffd55574e9ba34851059bf35bc0",
       "version_major": 2,
       "version_minor": 0
      },
      "text/plain": [
       "Calculating Metrics:   0%|          | 0/16 [00:00<?, ?it/s]"
      ]
     },
     "metadata": {},
     "output_type": "display_data"
    },
    {
     "data": {
      "application/vnd.jupyter.widget-view+json": {
       "model_id": "",
       "version_major": 2,
       "version_minor": 0
      },
      "text/plain": [
       "Profiling Dataset:         0%|          | 0/3 [00:00<?, ?it/s]"
      ]
     },
     "metadata": {},
     "output_type": "display_data"
    },
    {
     "data": {
      "application/vnd.jupyter.widget-view+json": {
       "model_id": "bc632faec42f4527ad18ea4a74f113d3",
       "version_major": 2,
       "version_minor": 0
      },
      "text/plain": [
       "Calculating Metrics:   0%|          | 0/6 [00:00<?, ?it/s]"
      ]
     },
     "metadata": {},
     "output_type": "display_data"
    },
    {
     "data": {
      "application/vnd.jupyter.widget-view+json": {
       "model_id": "a93fdc44d30d4870854c821cc6e3a81e",
       "version_major": 2,
       "version_minor": 0
      },
      "text/plain": [
       "Calculating Metrics:   0%|          | 0/2 [00:00<?, ?it/s]"
      ]
     },
     "metadata": {},
     "output_type": "display_data"
    },
    {
     "data": {
      "application/vnd.jupyter.widget-view+json": {
       "model_id": "2d19e4e3739f47328c6e853e5f2d9c51",
       "version_major": 2,
       "version_minor": 0
      },
      "text/plain": [
       "Calculating Metrics:   0%|          | 0/7 [00:00<?, ?it/s]"
      ]
     },
     "metadata": {},
     "output_type": "display_data"
    },
    {
     "data": {
      "application/vnd.jupyter.widget-view+json": {
       "model_id": "dbeecd91cc1f48329d1106b871d10896",
       "version_major": 2,
       "version_minor": 0
      },
      "text/plain": [
       "Calculating Metrics:   0%|          | 0/6 [00:00<?, ?it/s]"
      ]
     },
     "metadata": {},
     "output_type": "display_data"
    },
    {
     "data": {
      "application/vnd.jupyter.widget-view+json": {
       "model_id": "278261d5098940c0b4e553f6ea8ccdb7",
       "version_major": 2,
       "version_minor": 0
      },
      "text/plain": [
       "Calculating Metrics:   0%|          | 0/6 [00:00<?, ?it/s]"
      ]
     },
     "metadata": {},
     "output_type": "display_data"
    },
    {
     "data": {
      "application/vnd.jupyter.widget-view+json": {
       "model_id": "571bbbe4c6e5443f8d9b9a0b6cf68547",
       "version_major": 2,
       "version_minor": 0
      },
      "text/plain": [
       "Calculating Metrics:   0%|          | 0/2 [00:00<?, ?it/s]"
      ]
     },
     "metadata": {},
     "output_type": "display_data"
    },
    {
     "data": {
      "application/vnd.jupyter.widget-view+json": {
       "model_id": "223c83c2cd5f4550a4e52043673416ed",
       "version_major": 2,
       "version_minor": 0
      },
      "text/plain": [
       "Calculating Metrics:   0%|          | 0/7 [00:00<?, ?it/s]"
      ]
     },
     "metadata": {},
     "output_type": "display_data"
    },
    {
     "data": {
      "application/vnd.jupyter.widget-view+json": {
       "model_id": "dad0cb38a3944804a49d63d8eac8bf2d",
       "version_major": 2,
       "version_minor": 0
      },
      "text/plain": [
       "Calculating Metrics:   0%|          | 0/6 [00:00<?, ?it/s]"
      ]
     },
     "metadata": {},
     "output_type": "display_data"
    },
    {
     "data": {
      "application/vnd.jupyter.widget-view+json": {
       "model_id": "19ac99bab74b4342a40bd9b1f678931c",
       "version_major": 2,
       "version_minor": 0
      },
      "text/plain": [
       "Calculating Metrics:   0%|          | 0/6 [00:00<?, ?it/s]"
      ]
     },
     "metadata": {},
     "output_type": "display_data"
    },
    {
     "data": {
      "application/vnd.jupyter.widget-view+json": {
       "model_id": "9eafe9847ba8445f9af3f245adc218cb",
       "version_major": 2,
       "version_minor": 0
      },
      "text/plain": [
       "Calculating Metrics:   0%|          | 0/2 [00:00<?, ?it/s]"
      ]
     },
     "metadata": {},
     "output_type": "display_data"
    },
    {
     "data": {
      "application/vnd.jupyter.widget-view+json": {
       "model_id": "801dc1b14aac41cd8f6142a8f697810f",
       "version_major": 2,
       "version_minor": 0
      },
      "text/plain": [
       "Calculating Metrics:   0%|          | 0/7 [00:00<?, ?it/s]"
      ]
     },
     "metadata": {},
     "output_type": "display_data"
    },
    {
     "data": {
      "application/vnd.jupyter.widget-view+json": {
       "model_id": "e0f340d0674a43b2becd6ea733738533",
       "version_major": 2,
       "version_minor": 0
      },
      "text/plain": [
       "Calculating Metrics:   0%|          | 0/6 [00:00<?, ?it/s]"
      ]
     },
     "metadata": {},
     "output_type": "display_data"
    },
    {
     "data": {
      "application/vnd.jupyter.widget-view+json": {
       "model_id": "7143bd4fbc07405492fe4250cee1ad1a",
       "version_major": 2,
       "version_minor": 0
      },
      "text/plain": [
       "Calculating Metrics:   0%|          | 0/2 [00:00<?, ?it/s]"
      ]
     },
     "metadata": {},
     "output_type": "display_data"
    },
    {
     "data": {
      "application/vnd.jupyter.widget-view+json": {
       "model_id": "7a8f1eae72594e0fb6fe33937f01473c",
       "version_major": 2,
       "version_minor": 0
      },
      "text/plain": [
       "Calculating Metrics:   0%|          | 0/1 [00:00<?, ?it/s]"
      ]
     },
     "metadata": {},
     "output_type": "display_data"
    },
    {
     "data": {
      "application/vnd.jupyter.widget-view+json": {
       "model_id": "f4a68568b4924b0bb545e01dd11d6ef9",
       "version_major": 2,
       "version_minor": 0
      },
      "text/plain": [
       "Calculating Metrics:   0%|          | 0/2 [00:00<?, ?it/s]"
      ]
     },
     "metadata": {},
     "output_type": "display_data"
    },
    {
     "data": {
      "application/vnd.jupyter.widget-view+json": {
       "model_id": "01af20618d9f408580e918a7c368ec46",
       "version_major": 2,
       "version_minor": 0
      },
      "text/plain": [
       "Calculating Metrics:   0%|          | 0/22 [00:00<?, ?it/s]"
      ]
     },
     "metadata": {},
     "output_type": "display_data"
    },
    {
     "data": {
      "application/vnd.jupyter.widget-view+json": {
       "model_id": "",
       "version_major": 2,
       "version_minor": 0
      },
      "text/plain": [
       "Profiling Dataset:         0%|          | 0/0 [00:00<?, ?it/s]"
      ]
     },
     "metadata": {},
     "output_type": "display_data"
    },
    {
     "data": {
      "application/vnd.jupyter.widget-view+json": {
       "model_id": "a1faeef878b04ef6a4e33dbca750eae0",
       "version_major": 2,
       "version_minor": 0
      },
      "text/plain": [
       "Calculating Metrics:   0%|          | 0/2 [00:00<?, ?it/s]"
      ]
     },
     "metadata": {},
     "output_type": "display_data"
    },
    {
     "data": {
      "application/vnd.jupyter.widget-view+json": {
       "model_id": "af51989ae5074807b95bebe84e865cfa",
       "version_major": 2,
       "version_minor": 0
      },
      "text/plain": [
       "Calculating Metrics:   0%|          | 0/1 [00:00<?, ?it/s]"
      ]
     },
     "metadata": {},
     "output_type": "display_data"
    },
    {
     "data": {
      "application/vnd.jupyter.widget-view+json": {
       "model_id": "9bfd7ab44d2540709086237d1fc5c1b1",
       "version_major": 2,
       "version_minor": 0
      },
      "text/plain": [
       "Calculating Metrics:   0%|          | 0/2 [00:00<?, ?it/s]"
      ]
     },
     "metadata": {},
     "output_type": "display_data"
    },
    {
     "data": {
      "application/vnd.jupyter.widget-view+json": {
       "model_id": "4df45444fb1c4e47bc4333203f438053",
       "version_major": 2,
       "version_minor": 0
      },
      "text/plain": [
       "Calculating Metrics:   0%|          | 0/22 [00:00<?, ?it/s]"
      ]
     },
     "metadata": {},
     "output_type": "display_data"
    },
    {
     "data": {
      "application/vnd.jupyter.widget-view+json": {
       "model_id": "",
       "version_major": 2,
       "version_minor": 0
      },
      "text/plain": [
       "Profiling Dataset:         0%|          | 0/5 [00:00<?, ?it/s]"
      ]
     },
     "metadata": {},
     "output_type": "display_data"
    },
    {
     "data": {
      "application/vnd.jupyter.widget-view+json": {
       "model_id": "171a750f27274fecae19d912c1231296",
       "version_major": 2,
       "version_minor": 0
      },
      "text/plain": [
       "Calculating Metrics:   0%|          | 0/7 [00:00<?, ?it/s]"
      ]
     },
     "metadata": {},
     "output_type": "display_data"
    },
    {
     "data": {
      "application/vnd.jupyter.widget-view+json": {
       "model_id": "20a720af6c0b43f8979e806e16a6bf29",
       "version_major": 2,
       "version_minor": 0
      },
      "text/plain": [
       "Calculating Metrics:   0%|          | 0/2 [00:00<?, ?it/s]"
      ]
     },
     "metadata": {},
     "output_type": "display_data"
    },
    {
     "data": {
      "application/vnd.jupyter.widget-view+json": {
       "model_id": "bce91d73a1e949a0923d84bdbe53cbbd",
       "version_major": 2,
       "version_minor": 0
      },
      "text/plain": [
       "Calculating Metrics:   0%|          | 0/7 [00:00<?, ?it/s]"
      ]
     },
     "metadata": {},
     "output_type": "display_data"
    },
    {
     "data": {
      "application/vnd.jupyter.widget-view+json": {
       "model_id": "3067607b147f451fa633614bf976cb8b",
       "version_major": 2,
       "version_minor": 0
      },
      "text/plain": [
       "Calculating Metrics:   0%|          | 0/7 [00:00<?, ?it/s]"
      ]
     },
     "metadata": {},
     "output_type": "display_data"
    },
    {
     "data": {
      "application/vnd.jupyter.widget-view+json": {
       "model_id": "057837bf8bcd41d1bd79fec4374da4bf",
       "version_major": 2,
       "version_minor": 0
      },
      "text/plain": [
       "Calculating Metrics:   0%|          | 0/7 [00:00<?, ?it/s]"
      ]
     },
     "metadata": {},
     "output_type": "display_data"
    },
    {
     "data": {
      "application/vnd.jupyter.widget-view+json": {
       "model_id": "4ff0f02a669a4dcdb43875357ccb536a",
       "version_major": 2,
       "version_minor": 0
      },
      "text/plain": [
       "Calculating Metrics:   0%|          | 0/2 [00:00<?, ?it/s]"
      ]
     },
     "metadata": {},
     "output_type": "display_data"
    },
    {
     "data": {
      "application/vnd.jupyter.widget-view+json": {
       "model_id": "4de98e0670414074ae45ec37efd3da5c",
       "version_major": 2,
       "version_minor": 0
      },
      "text/plain": [
       "Calculating Metrics:   0%|          | 0/7 [00:00<?, ?it/s]"
      ]
     },
     "metadata": {},
     "output_type": "display_data"
    },
    {
     "data": {
      "application/vnd.jupyter.widget-view+json": {
       "model_id": "21a429ddbea44466b1bf6a2796c4562d",
       "version_major": 2,
       "version_minor": 0
      },
      "text/plain": [
       "Calculating Metrics:   0%|          | 0/7 [00:00<?, ?it/s]"
      ]
     },
     "metadata": {},
     "output_type": "display_data"
    },
    {
     "data": {
      "application/vnd.jupyter.widget-view+json": {
       "model_id": "8f99d5bd35024a78a985c6fb78cb8746",
       "version_major": 2,
       "version_minor": 0
      },
      "text/plain": [
       "Calculating Metrics:   0%|          | 0/7 [00:00<?, ?it/s]"
      ]
     },
     "metadata": {},
     "output_type": "display_data"
    },
    {
     "data": {
      "application/vnd.jupyter.widget-view+json": {
       "model_id": "ccd07417d1a64e5eb6855c8111a11df8",
       "version_major": 2,
       "version_minor": 0
      },
      "text/plain": [
       "Calculating Metrics:   0%|          | 0/2 [00:00<?, ?it/s]"
      ]
     },
     "metadata": {},
     "output_type": "display_data"
    },
    {
     "data": {
      "application/vnd.jupyter.widget-view+json": {
       "model_id": "d297848de2384e59962f5f9ea3d7d4a1",
       "version_major": 2,
       "version_minor": 0
      },
      "text/plain": [
       "Calculating Metrics:   0%|          | 0/7 [00:00<?, ?it/s]"
      ]
     },
     "metadata": {},
     "output_type": "display_data"
    },
    {
     "data": {
      "application/vnd.jupyter.widget-view+json": {
       "model_id": "2e0406bb621a45419c0f0216fc141a56",
       "version_major": 2,
       "version_minor": 0
      },
      "text/plain": [
       "Calculating Metrics:   0%|          | 0/7 [00:00<?, ?it/s]"
      ]
     },
     "metadata": {},
     "output_type": "display_data"
    },
    {
     "data": {
      "application/vnd.jupyter.widget-view+json": {
       "model_id": "7af6740c285f4121ac377225e2fe9001",
       "version_major": 2,
       "version_minor": 0
      },
      "text/plain": [
       "Calculating Metrics:   0%|          | 0/7 [00:00<?, ?it/s]"
      ]
     },
     "metadata": {},
     "output_type": "display_data"
    },
    {
     "data": {
      "application/vnd.jupyter.widget-view+json": {
       "model_id": "8410b35fe5514192a42b7dadfe508980",
       "version_major": 2,
       "version_minor": 0
      },
      "text/plain": [
       "Calculating Metrics:   0%|          | 0/2 [00:00<?, ?it/s]"
      ]
     },
     "metadata": {},
     "output_type": "display_data"
    },
    {
     "data": {
      "application/vnd.jupyter.widget-view+json": {
       "model_id": "7cd9f159902b43b58eca6d8b6432a77c",
       "version_major": 2,
       "version_minor": 0
      },
      "text/plain": [
       "Calculating Metrics:   0%|          | 0/7 [00:00<?, ?it/s]"
      ]
     },
     "metadata": {},
     "output_type": "display_data"
    },
    {
     "data": {
      "application/vnd.jupyter.widget-view+json": {
       "model_id": "862d37c2ea9b41ad844b5f7bfaa2e0e1",
       "version_major": 2,
       "version_minor": 0
      },
      "text/plain": [
       "Calculating Metrics:   0%|          | 0/7 [00:00<?, ?it/s]"
      ]
     },
     "metadata": {},
     "output_type": "display_data"
    },
    {
     "data": {
      "application/vnd.jupyter.widget-view+json": {
       "model_id": "caa764c69e954aa885b4dd2b0a06b86e",
       "version_major": 2,
       "version_minor": 0
      },
      "text/plain": [
       "Calculating Metrics:   0%|          | 0/7 [00:00<?, ?it/s]"
      ]
     },
     "metadata": {},
     "output_type": "display_data"
    },
    {
     "data": {
      "application/vnd.jupyter.widget-view+json": {
       "model_id": "edd20403f2cb4f97b0e1b5233a1c8078",
       "version_major": 2,
       "version_minor": 0
      },
      "text/plain": [
       "Calculating Metrics:   0%|          | 0/2 [00:00<?, ?it/s]"
      ]
     },
     "metadata": {},
     "output_type": "display_data"
    },
    {
     "data": {
      "application/vnd.jupyter.widget-view+json": {
       "model_id": "1f4fff688b5546c9a5a37d542a530aac",
       "version_major": 2,
       "version_minor": 0
      },
      "text/plain": [
       "Calculating Metrics:   0%|          | 0/7 [00:00<?, ?it/s]"
      ]
     },
     "metadata": {},
     "output_type": "display_data"
    },
    {
     "data": {
      "application/vnd.jupyter.widget-view+json": {
       "model_id": "b005d00d673948e683c3d4e6a0df74d3",
       "version_major": 2,
       "version_minor": 0
      },
      "text/plain": [
       "Calculating Metrics:   0%|          | 0/7 [00:00<?, ?it/s]"
      ]
     },
     "metadata": {},
     "output_type": "display_data"
    },
    {
     "data": {
      "application/vnd.jupyter.widget-view+json": {
       "model_id": "ef1abb2efecc42659ed74c032477e19c",
       "version_major": 2,
       "version_minor": 0
      },
      "text/plain": [
       "Calculating Metrics:   0%|          | 0/2 [00:00<?, ?it/s]"
      ]
     },
     "metadata": {},
     "output_type": "display_data"
    },
    {
     "data": {
      "application/vnd.jupyter.widget-view+json": {
       "model_id": "07cbfccfec2e46f6b14230cbab46cea0",
       "version_major": 2,
       "version_minor": 0
      },
      "text/plain": [
       "Calculating Metrics:   0%|          | 0/1 [00:00<?, ?it/s]"
      ]
     },
     "metadata": {},
     "output_type": "display_data"
    },
    {
     "data": {
      "application/vnd.jupyter.widget-view+json": {
       "model_id": "",
       "version_major": 2,
       "version_minor": 0
      },
      "text/plain": [
       "Profiling Dataset:         0%|          | 0/1 [00:00<?, ?it/s]"
      ]
     },
     "metadata": {},
     "output_type": "display_data"
    },
    {
     "data": {
      "application/vnd.jupyter.widget-view+json": {
       "model_id": "f5067f7034994e25bff8c5e4e9d29210",
       "version_major": 2,
       "version_minor": 0
      },
      "text/plain": [
       "Calculating Metrics:   0%|          | 0/9 [00:00<?, ?it/s]"
      ]
     },
     "metadata": {},
     "output_type": "display_data"
    },
    {
     "data": {
      "application/vnd.jupyter.widget-view+json": {
       "model_id": "8e14e5f05094474cb961246bb2bc69f2",
       "version_major": 2,
       "version_minor": 0
      },
      "text/plain": [
       "Calculating Metrics:   0%|          | 0/8 [00:00<?, ?it/s]"
      ]
     },
     "metadata": {},
     "output_type": "display_data"
    },
    {
     "data": {
      "application/vnd.jupyter.widget-view+json": {
       "model_id": "bb367a628d6742ac9fa3c763d95ff5f9",
       "version_major": 2,
       "version_minor": 0
      },
      "text/plain": [
       "Calculating Metrics:   0%|          | 0/5 [00:00<?, ?it/s]"
      ]
     },
     "metadata": {},
     "output_type": "display_data"
    },
    {
     "data": {
      "application/vnd.jupyter.widget-view+json": {
       "model_id": "62c7cf0be1c0448982998306c27e12ba",
       "version_major": 2,
       "version_minor": 0
      },
      "text/plain": [
       "Calculating Metrics:   0%|          | 0/6 [00:00<?, ?it/s]"
      ]
     },
     "metadata": {},
     "output_type": "display_data"
    },
    {
     "data": {
      "application/vnd.jupyter.widget-view+json": {
       "model_id": "dd7617db0cf143808f55dc98fe6d0e0c",
       "version_major": 2,
       "version_minor": 0
      },
      "text/plain": [
       "Calculating Metrics:   0%|          | 0/6 [00:00<?, ?it/s]"
      ]
     },
     "metadata": {},
     "output_type": "display_data"
    },
    {
     "data": {
      "application/vnd.jupyter.widget-view+json": {
       "model_id": "4026bc3c8d1b46a480504049f360f1f9",
       "version_major": 2,
       "version_minor": 0
      },
      "text/plain": [
       "Calculating Metrics:   0%|          | 0/5 [00:00<?, ?it/s]"
      ]
     },
     "metadata": {},
     "output_type": "display_data"
    },
    {
     "data": {
      "application/vnd.jupyter.widget-view+json": {
       "model_id": "9689c4fb8f224c00a1b6542ff1c1d90c",
       "version_major": 2,
       "version_minor": 0
      },
      "text/plain": [
       "Calculating Metrics:   0%|          | 0/9 [00:00<?, ?it/s]"
      ]
     },
     "metadata": {},
     "output_type": "display_data"
    },
    {
     "data": {
      "application/vnd.jupyter.widget-view+json": {
       "model_id": "5f6b46e346044c6aa7caf6c98e132f63",
       "version_major": 2,
       "version_minor": 0
      },
      "text/plain": [
       "Calculating Metrics:   0%|          | 0/6 [00:00<?, ?it/s]"
      ]
     },
     "metadata": {},
     "output_type": "display_data"
    },
    {
     "data": {
      "application/vnd.jupyter.widget-view+json": {
       "model_id": "0fccd5f45dfd4fcc812a907bff8d480e",
       "version_major": 2,
       "version_minor": 0
      },
      "text/plain": [
       "Calculating Metrics:   0%|          | 0/11 [00:00<?, ?it/s]"
      ]
     },
     "metadata": {},
     "output_type": "display_data"
    },
    {
     "data": {
      "application/vnd.jupyter.widget-view+json": {
       "model_id": "7a7a3cc9a1094ef083771309f5f1d73b",
       "version_major": 2,
       "version_minor": 0
      },
      "text/plain": [
       "Calculating Metrics:   0%|          | 0/2 [00:00<?, ?it/s]"
      ]
     },
     "metadata": {},
     "output_type": "display_data"
    },
    {
     "data": {
      "application/vnd.jupyter.widget-view+json": {
       "model_id": "4cbe9bf3b9d645e582c653ff2a9b2edb",
       "version_major": 2,
       "version_minor": 0
      },
      "text/plain": [
       "Calculating Metrics:   0%|          | 0/1 [00:00<?, ?it/s]"
      ]
     },
     "metadata": {},
     "output_type": "display_data"
    },
    {
     "data": {
      "application/vnd.jupyter.widget-view+json": {
       "model_id": "",
       "version_major": 2,
       "version_minor": 0
      },
      "text/plain": [
       "Profiling Dataset:         0%|          | 0/1 [00:00<?, ?it/s]"
      ]
     },
     "metadata": {},
     "output_type": "display_data"
    },
    {
     "data": {
      "application/vnd.jupyter.widget-view+json": {
       "model_id": "8a0de3a04e4945dca0574cf8a4602af8",
       "version_major": 2,
       "version_minor": 0
      },
      "text/plain": [
       "Calculating Metrics:   0%|          | 0/6 [00:00<?, ?it/s]"
      ]
     },
     "metadata": {},
     "output_type": "display_data"
    },
    {
     "data": {
      "application/vnd.jupyter.widget-view+json": {
       "model_id": "becc5070fa3d49c4993cfce823dcf47e",
       "version_major": 2,
       "version_minor": 0
      },
      "text/plain": [
       "Calculating Metrics:   0%|          | 0/6 [00:00<?, ?it/s]"
      ]
     },
     "metadata": {},
     "output_type": "display_data"
    },
    {
     "data": {
      "application/vnd.jupyter.widget-view+json": {
       "model_id": "17a35cd32b844182aa1bbb0bb22f6bcd",
       "version_major": 2,
       "version_minor": 0
      },
      "text/plain": [
       "Calculating Metrics:   0%|          | 0/2 [00:00<?, ?it/s]"
      ]
     },
     "metadata": {},
     "output_type": "display_data"
    },
    {
     "data": {
      "application/vnd.jupyter.widget-view+json": {
       "model_id": "a5e8d95cc2704fc7a1b25295112c1bbb",
       "version_major": 2,
       "version_minor": 0
      },
      "text/plain": [
       "Calculating Metrics:   0%|          | 0/1 [00:00<?, ?it/s]"
      ]
     },
     "metadata": {},
     "output_type": "display_data"
    },
    {
     "data": {
      "application/vnd.jupyter.widget-view+json": {
       "model_id": "",
       "version_major": 2,
       "version_minor": 0
      },
      "text/plain": [
       "Profiling Dataset:         0%|          | 0/0 [00:00<?, ?it/s]"
      ]
     },
     "metadata": {},
     "output_type": "display_data"
    },
    {
     "data": {
      "application/vnd.jupyter.widget-view+json": {
       "model_id": "76f1779a3dda497d815e1a31c2439b78",
       "version_major": 2,
       "version_minor": 0
      },
      "text/plain": [
       "Calculating Metrics:   0%|          | 0/2 [00:00<?, ?it/s]"
      ]
     },
     "metadata": {},
     "output_type": "display_data"
    },
    {
     "data": {
      "application/vnd.jupyter.widget-view+json": {
       "model_id": "53c7308293e64df68e7f371bd3dd50ec",
       "version_major": 2,
       "version_minor": 0
      },
      "text/plain": [
       "Calculating Metrics:   0%|          | 0/1 [00:00<?, ?it/s]"
      ]
     },
     "metadata": {},
     "output_type": "display_data"
    },
    {
     "data": {
      "application/vnd.jupyter.widget-view+json": {
       "model_id": "3de0f98493b64c52ac0bdbc47adcc3ff",
       "version_major": 2,
       "version_minor": 0
      },
      "text/plain": [
       "Calculating Metrics:   0%|          | 0/16 [00:00<?, ?it/s]"
      ]
     },
     "metadata": {},
     "output_type": "display_data"
    },
    {
     "data": {
      "application/vnd.jupyter.widget-view+json": {
       "model_id": "",
       "version_major": 2,
       "version_minor": 0
      },
      "text/plain": [
       "Profiling Dataset:         0%|          | 0/6 [00:00<?, ?it/s]"
      ]
     },
     "metadata": {},
     "output_type": "display_data"
    },
    {
     "data": {
      "application/vnd.jupyter.widget-view+json": {
       "model_id": "fc34cb2ea2374cb9a85638e0e307484d",
       "version_major": 2,
       "version_minor": 0
      },
      "text/plain": [
       "Calculating Metrics:   0%|          | 0/6 [00:00<?, ?it/s]"
      ]
     },
     "metadata": {},
     "output_type": "display_data"
    },
    {
     "data": {
      "application/vnd.jupyter.widget-view+json": {
       "model_id": "1b4b658de65846908d87adfd1394f137",
       "version_major": 2,
       "version_minor": 0
      },
      "text/plain": [
       "Calculating Metrics:   0%|          | 0/5 [00:00<?, ?it/s]"
      ]
     },
     "metadata": {},
     "output_type": "display_data"
    },
    {
     "data": {
      "application/vnd.jupyter.widget-view+json": {
       "model_id": "e48df6f8312f4f038c6e3f153d40a721",
       "version_major": 2,
       "version_minor": 0
      },
      "text/plain": [
       "Calculating Metrics:   0%|          | 0/5 [00:00<?, ?it/s]"
      ]
     },
     "metadata": {},
     "output_type": "display_data"
    },
    {
     "data": {
      "application/vnd.jupyter.widget-view+json": {
       "model_id": "c9ded71058c54cd68f522da0264dd175",
       "version_major": 2,
       "version_minor": 0
      },
      "text/plain": [
       "Calculating Metrics:   0%|          | 0/10 [00:00<?, ?it/s]"
      ]
     },
     "metadata": {},
     "output_type": "display_data"
    },
    {
     "data": {
      "application/vnd.jupyter.widget-view+json": {
       "model_id": "b76a6d27aa254e3ca58a1e7574845f69",
       "version_major": 2,
       "version_minor": 0
      },
      "text/plain": [
       "Calculating Metrics:   0%|          | 0/6 [00:00<?, ?it/s]"
      ]
     },
     "metadata": {},
     "output_type": "display_data"
    },
    {
     "data": {
      "application/vnd.jupyter.widget-view+json": {
       "model_id": "6d4965623b6f43f49d9e9d4643d45084",
       "version_major": 2,
       "version_minor": 0
      },
      "text/plain": [
       "Calculating Metrics:   0%|          | 0/5 [00:00<?, ?it/s]"
      ]
     },
     "metadata": {},
     "output_type": "display_data"
    },
    {
     "data": {
      "application/vnd.jupyter.widget-view+json": {
       "model_id": "722251fd753f4aec956a69c8ab894634",
       "version_major": 2,
       "version_minor": 0
      },
      "text/plain": [
       "Calculating Metrics:   0%|          | 0/5 [00:00<?, ?it/s]"
      ]
     },
     "metadata": {},
     "output_type": "display_data"
    },
    {
     "data": {
      "application/vnd.jupyter.widget-view+json": {
       "model_id": "ee60324ccbed4f228572e5ba7cad6761",
       "version_major": 2,
       "version_minor": 0
      },
      "text/plain": [
       "Calculating Metrics:   0%|          | 0/10 [00:00<?, ?it/s]"
      ]
     },
     "metadata": {},
     "output_type": "display_data"
    },
    {
     "data": {
      "application/vnd.jupyter.widget-view+json": {
       "model_id": "231e6e495c224c1fbce526f1e17cf833",
       "version_major": 2,
       "version_minor": 0
      },
      "text/plain": [
       "Calculating Metrics:   0%|          | 0/6 [00:00<?, ?it/s]"
      ]
     },
     "metadata": {},
     "output_type": "display_data"
    },
    {
     "data": {
      "application/vnd.jupyter.widget-view+json": {
       "model_id": "4b2b63f2fe5c4b0f81e441e0f735affe",
       "version_major": 2,
       "version_minor": 0
      },
      "text/plain": [
       "Calculating Metrics:   0%|          | 0/5 [00:00<?, ?it/s]"
      ]
     },
     "metadata": {},
     "output_type": "display_data"
    },
    {
     "data": {
      "application/vnd.jupyter.widget-view+json": {
       "model_id": "ef949d948a3e4bebb40065cb548f949f",
       "version_major": 2,
       "version_minor": 0
      },
      "text/plain": [
       "Calculating Metrics:   0%|          | 0/5 [00:00<?, ?it/s]"
      ]
     },
     "metadata": {},
     "output_type": "display_data"
    },
    {
     "data": {
      "application/vnd.jupyter.widget-view+json": {
       "model_id": "447fe719b22b493689c5c3bed67eb4bb",
       "version_major": 2,
       "version_minor": 0
      },
      "text/plain": [
       "Calculating Metrics:   0%|          | 0/10 [00:00<?, ?it/s]"
      ]
     },
     "metadata": {},
     "output_type": "display_data"
    },
    {
     "data": {
      "application/vnd.jupyter.widget-view+json": {
       "model_id": "d86fe6b074784a1fbba379ea2c2e0a81",
       "version_major": 2,
       "version_minor": 0
      },
      "text/plain": [
       "Calculating Metrics:   0%|          | 0/6 [00:00<?, ?it/s]"
      ]
     },
     "metadata": {},
     "output_type": "display_data"
    },
    {
     "data": {
      "application/vnd.jupyter.widget-view+json": {
       "model_id": "e50c607d6d8d426283e6e5cfe5c31d99",
       "version_major": 2,
       "version_minor": 0
      },
      "text/plain": [
       "Calculating Metrics:   0%|          | 0/5 [00:00<?, ?it/s]"
      ]
     },
     "metadata": {},
     "output_type": "display_data"
    },
    {
     "data": {
      "application/vnd.jupyter.widget-view+json": {
       "model_id": "417c4638b3594cb68eba7ed858382426",
       "version_major": 2,
       "version_minor": 0
      },
      "text/plain": [
       "Calculating Metrics:   0%|          | 0/5 [00:00<?, ?it/s]"
      ]
     },
     "metadata": {},
     "output_type": "display_data"
    },
    {
     "data": {
      "application/vnd.jupyter.widget-view+json": {
       "model_id": "ecbcc174367b4b378e859a5f4cdc818a",
       "version_major": 2,
       "version_minor": 0
      },
      "text/plain": [
       "Calculating Metrics:   0%|          | 0/10 [00:00<?, ?it/s]"
      ]
     },
     "metadata": {},
     "output_type": "display_data"
    },
    {
     "data": {
      "application/vnd.jupyter.widget-view+json": {
       "model_id": "4c135ecd5882405db7262ddd7ceb4eb8",
       "version_major": 2,
       "version_minor": 0
      },
      "text/plain": [
       "Calculating Metrics:   0%|          | 0/6 [00:00<?, ?it/s]"
      ]
     },
     "metadata": {},
     "output_type": "display_data"
    },
    {
     "data": {
      "application/vnd.jupyter.widget-view+json": {
       "model_id": "6cb8f4104fd246f1be4ea143c0c9120b",
       "version_major": 2,
       "version_minor": 0
      },
      "text/plain": [
       "Calculating Metrics:   0%|          | 0/5 [00:00<?, ?it/s]"
      ]
     },
     "metadata": {},
     "output_type": "display_data"
    },
    {
     "data": {
      "application/vnd.jupyter.widget-view+json": {
       "model_id": "9ea829abb20244679b8ce5189b5d5769",
       "version_major": 2,
       "version_minor": 0
      },
      "text/plain": [
       "Calculating Metrics:   0%|          | 0/5 [00:00<?, ?it/s]"
      ]
     },
     "metadata": {},
     "output_type": "display_data"
    },
    {
     "data": {
      "application/vnd.jupyter.widget-view+json": {
       "model_id": "f403e5bb828c423288a985d8b3f11532",
       "version_major": 2,
       "version_minor": 0
      },
      "text/plain": [
       "Calculating Metrics:   0%|          | 0/10 [00:00<?, ?it/s]"
      ]
     },
     "metadata": {},
     "output_type": "display_data"
    },
    {
     "data": {
      "application/vnd.jupyter.widget-view+json": {
       "model_id": "26ca48dc3db441b98f20d0bb3ba99321",
       "version_major": 2,
       "version_minor": 0
      },
      "text/plain": [
       "Calculating Metrics:   0%|          | 0/6 [00:00<?, ?it/s]"
      ]
     },
     "metadata": {},
     "output_type": "display_data"
    },
    {
     "data": {
      "application/vnd.jupyter.widget-view+json": {
       "model_id": "2c353aa905ee4d4d8b128c01578fd6f8",
       "version_major": 2,
       "version_minor": 0
      },
      "text/plain": [
       "Calculating Metrics:   0%|          | 0/5 [00:00<?, ?it/s]"
      ]
     },
     "metadata": {},
     "output_type": "display_data"
    },
    {
     "data": {
      "application/vnd.jupyter.widget-view+json": {
       "model_id": "871070c136c24320aeefc05d903eced1",
       "version_major": 2,
       "version_minor": 0
      },
      "text/plain": [
       "Calculating Metrics:   0%|          | 0/5 [00:00<?, ?it/s]"
      ]
     },
     "metadata": {},
     "output_type": "display_data"
    },
    {
     "data": {
      "application/vnd.jupyter.widget-view+json": {
       "model_id": "0d08f15e5ecd41b1aa5be499c839cf30",
       "version_major": 2,
       "version_minor": 0
      },
      "text/plain": [
       "Calculating Metrics:   0%|          | 0/10 [00:00<?, ?it/s]"
      ]
     },
     "metadata": {},
     "output_type": "display_data"
    }
   ],
   "source": [
    "result = context.assistants.onboarding.run(\n",
    "    batch_request=batch_request,\n",
    "    exclude_column_names=exclude_column_names,\n",
    ")\n",
    "validator.expectation_suite = result.get_expectation_suite(\n",
    "    expectation_suite_name=expectation_suite_name\n",
    ")"
   ]
  },
  {
   "cell_type": "markdown",
   "id": "eb711ffd",
   "metadata": {},
   "source": [
    "# Save & review your new Expectation Suite\n",
    "\n",
    "Let's save the draft expectation suite as a JSON file in the\n",
    "`great_expectations/expectations` directory of your project and rebuild the Data\n",
    " Docs site to make it easy to review your new suite."
   ]
  },
  {
   "cell_type": "code",
   "execution_count": 5,
   "id": "82b2b518",
   "metadata": {},
   "outputs": [
    {
     "name": "stdout",
     "output_type": "stream",
     "text": [
      "2023-05-10T22:21:07+0200 - INFO - \t37 expectation(s) included in expectation_suite.\n",
      "{\n",
      "  \"ge_cloud_id\": null,\n",
      "  \"data_asset_type\": null,\n",
      "  \"meta\": {\n",
      "    \"great_expectations_version\": \"0.16.11\",\n",
      "    \"citations\": [\n",
      "      {\n",
      "        \"citation_date\": \"2023-05-10T20:21:02.250699Z\",\n",
      "        \"comment\": \"Created by effective Rule-Based Profiler of OnboardingDataAssistant with the configuration included.\\n\"\n",
      "      }\n",
      "    ]\n",
      "  },\n",
      "  \"expectation_suite_name\": \"employees_suite\",\n",
      "  \"expectations\": [\n",
      "    {\n",
      "      \"kwargs\": {\n",
      "        \"max_value\": 40,\n",
      "        \"min_value\": 40\n",
      "      },\n",
      "      \"meta\": {\n",
      "        \"profiler_details\": {\n",
      "          \"metric_configuration\": {\n",
      "            \"metric_name\": \"table.row_count\",\n",
      "            \"domain_kwargs\": {},\n",
      "            \"metric_value_kwargs\": null\n",
      "          },\n",
      "          \"num_batches\": 1\n",
      "        }\n",
      "      },\n",
      "      \"expectation_type\": \"expect_table_row_count_to_be_between\"\n",
      "    },\n",
      "    {\n",
      "      \"kwargs\": {\n",
      "        \"exact_match\": null,\n",
      "        \"column_set\": [\n",
      "          \"phone_number\",\n",
      "          \"email\",\n",
      "          \"first_name\",\n",
      "          \"employee_id\",\n",
      "          \"salary\",\n",
      "          \"last_name\",\n",
      "          \"manager_id\",\n",
      "          \"hire_date\",\n",
      "          \"job_id\",\n",
      "          \"department_id\"\n",
      "        ]\n",
      "      },\n",
      "      \"meta\": {\n",
      "        \"profiler_details\": {\n",
      "          \"success_ratio\": 1.0\n",
      "        }\n",
      "      },\n",
      "      \"expectation_type\": \"expect_table_columns_to_match_set\"\n",
      "    },\n",
      "    {\n",
      "      \"kwargs\": {\n",
      "        \"column\": \"last_name\"\n",
      "      },\n",
      "      \"meta\": {\n",
      "        \"profiler_details\": {\n",
      "          \"metric_configuration\": {\n",
      "            \"metric_name\": \"column_values.unique.unexpected_count\",\n",
      "            \"domain_kwargs\": {\n",
      "              \"column\": \"last_name\"\n",
      "            },\n",
      "            \"metric_value_kwargs\": null\n",
      "          },\n",
      "          \"num_batches\": 1\n",
      "        }\n",
      "      },\n",
      "      \"expectation_type\": \"expect_column_values_to_be_unique\"\n",
      "    },\n",
      "    {\n",
      "      \"kwargs\": {\n",
      "        \"column\": \"email\"\n",
      "      },\n",
      "      \"meta\": {\n",
      "        \"profiler_details\": {\n",
      "          \"metric_configuration\": {\n",
      "            \"metric_name\": \"column_values.unique.unexpected_count\",\n",
      "            \"domain_kwargs\": {\n",
      "              \"column\": \"email\"\n",
      "            },\n",
      "            \"metric_value_kwargs\": null\n",
      "          },\n",
      "          \"num_batches\": 1\n",
      "        }\n",
      "      },\n",
      "      \"expectation_type\": \"expect_column_values_to_be_unique\"\n",
      "    },\n",
      "    {\n",
      "      \"kwargs\": {\n",
      "        \"column\": \"phone_number\"\n",
      "      },\n",
      "      \"meta\": {\n",
      "        \"profiler_details\": {\n",
      "          \"metric_configuration\": {\n",
      "            \"metric_name\": \"column_values.unique.unexpected_count\",\n",
      "            \"domain_kwargs\": {\n",
      "              \"column\": \"phone_number\"\n",
      "            },\n",
      "            \"metric_value_kwargs\": null\n",
      "          },\n",
      "          \"num_batches\": 1\n",
      "        }\n",
      "      },\n",
      "      \"expectation_type\": \"expect_column_values_to_be_unique\"\n",
      "    },\n",
      "    {\n",
      "      \"kwargs\": {\n",
      "        \"column\": \"first_name\"\n",
      "      },\n",
      "      \"meta\": {\n",
      "        \"profiler_details\": {\n",
      "          \"metric_configuration\": {\n",
      "            \"metric_name\": \"column_values.nonnull.unexpected_count\",\n",
      "            \"domain_kwargs\": {\n",
      "              \"column\": \"first_name\"\n",
      "            },\n",
      "            \"metric_value_kwargs\": null\n",
      "          },\n",
      "          \"num_batches\": 1\n",
      "        }\n",
      "      },\n",
      "      \"expectation_type\": \"expect_column_values_to_not_be_null\"\n",
      "    },\n",
      "    {\n",
      "      \"kwargs\": {\n",
      "        \"column\": \"last_name\"\n",
      "      },\n",
      "      \"meta\": {\n",
      "        \"profiler_details\": {\n",
      "          \"metric_configuration\": {\n",
      "            \"metric_name\": \"column_values.nonnull.unexpected_count\",\n",
      "            \"domain_kwargs\": {\n",
      "              \"column\": \"last_name\"\n",
      "            },\n",
      "            \"metric_value_kwargs\": null\n",
      "          },\n",
      "          \"num_batches\": 1\n",
      "        }\n",
      "      },\n",
      "      \"expectation_type\": \"expect_column_values_to_not_be_null\"\n",
      "    },\n",
      "    {\n",
      "      \"kwargs\": {\n",
      "        \"column\": \"email\"\n",
      "      },\n",
      "      \"meta\": {\n",
      "        \"profiler_details\": {\n",
      "          \"metric_configuration\": {\n",
      "            \"metric_name\": \"column_values.nonnull.unexpected_count\",\n",
      "            \"domain_kwargs\": {\n",
      "              \"column\": \"email\"\n",
      "            },\n",
      "            \"metric_value_kwargs\": null\n",
      "          },\n",
      "          \"num_batches\": 1\n",
      "        }\n",
      "      },\n",
      "      \"expectation_type\": \"expect_column_values_to_not_be_null\"\n",
      "    },\n",
      "    {\n",
      "      \"kwargs\": {\n",
      "        \"column\": \"hire_date\"\n",
      "      },\n",
      "      \"meta\": {\n",
      "        \"profiler_details\": {\n",
      "          \"metric_configuration\": {\n",
      "            \"metric_name\": \"column_values.nonnull.unexpected_count\",\n",
      "            \"domain_kwargs\": {\n",
      "              \"column\": \"hire_date\"\n",
      "            },\n",
      "            \"metric_value_kwargs\": null\n",
      "          },\n",
      "          \"num_batches\": 1\n",
      "        }\n",
      "      },\n",
      "      \"expectation_type\": \"expect_column_values_to_not_be_null\"\n",
      "    },\n",
      "    {\n",
      "      \"kwargs\": {\n",
      "        \"column\": \"salary\"\n",
      "      },\n",
      "      \"meta\": {\n",
      "        \"profiler_details\": {\n",
      "          \"metric_configuration\": {\n",
      "            \"metric_name\": \"column_values.nonnull.unexpected_count\",\n",
      "            \"domain_kwargs\": {\n",
      "              \"column\": \"salary\"\n",
      "            },\n",
      "            \"metric_value_kwargs\": null\n",
      "          },\n",
      "          \"num_batches\": 1\n",
      "        }\n",
      "      },\n",
      "      \"expectation_type\": \"expect_column_values_to_not_be_null\"\n",
      "    },\n",
      "    {\n",
      "      \"kwargs\": {\n",
      "        \"strict_max\": false,\n",
      "        \"max_value\": 2500.0,\n",
      "        \"min_value\": 2500.0,\n",
      "        \"column\": \"salary\",\n",
      "        \"strict_min\": false\n",
      "      },\n",
      "      \"meta\": {\n",
      "        \"profiler_details\": {\n",
      "          \"metric_configuration\": {\n",
      "            \"metric_name\": \"column.min\",\n",
      "            \"domain_kwargs\": {\n",
      "              \"column\": \"salary\"\n",
      "            },\n",
      "            \"metric_value_kwargs\": null\n",
      "          },\n",
      "          \"num_batches\": 1\n",
      "        }\n",
      "      },\n",
      "      \"expectation_type\": \"expect_column_min_to_be_between\"\n",
      "    },\n",
      "    {\n",
      "      \"kwargs\": {\n",
      "        \"strict_max\": false,\n",
      "        \"max_value\": 124000.0,\n",
      "        \"min_value\": 124000.0,\n",
      "        \"column\": \"salary\",\n",
      "        \"strict_min\": false\n",
      "      },\n",
      "      \"meta\": {\n",
      "        \"profiler_details\": {\n",
      "          \"metric_configuration\": {\n",
      "            \"metric_name\": \"column.max\",\n",
      "            \"domain_kwargs\": {\n",
      "              \"column\": \"salary\"\n",
      "            },\n",
      "            \"metric_value_kwargs\": null\n",
      "          },\n",
      "          \"num_batches\": 1\n",
      "        }\n",
      "      },\n",
      "      \"expectation_type\": \"expect_column_max_to_be_between\"\n",
      "    },\n",
      "    {\n",
      "      \"kwargs\": {\n",
      "        \"mostly\": 1.0,\n",
      "        \"strict_max\": false,\n",
      "        \"max_value\": 124000.0,\n",
      "        \"min_value\": 2500.0,\n",
      "        \"column\": \"salary\",\n",
      "        \"strict_min\": false\n",
      "      },\n",
      "      \"meta\": {\n",
      "        \"profiler_details\": {\n",
      "          \"column_min_values_range_estimator\": {\n",
      "            \"metric_configuration\": {\n",
      "              \"metric_name\": \"column.min\",\n",
      "              \"domain_kwargs\": {\n",
      "                \"column\": \"salary\"\n",
      "              },\n",
      "              \"metric_value_kwargs\": null\n",
      "            },\n",
      "            \"num_batches\": 1\n",
      "          },\n",
      "          \"column_max_values_range_estimator\": {\n",
      "            \"metric_configuration\": {\n",
      "              \"metric_name\": \"column.max\",\n",
      "              \"domain_kwargs\": {\n",
      "                \"column\": \"salary\"\n",
      "              },\n",
      "              \"metric_value_kwargs\": null\n",
      "            },\n",
      "            \"num_batches\": 1\n",
      "          }\n",
      "        }\n",
      "      },\n",
      "      \"expectation_type\": \"expect_column_values_to_be_between\"\n",
      "    },\n",
      "    {\n",
      "      \"kwargs\": {\n",
      "        \"column\": \"salary\",\n",
      "        \"allow_relative_error\": false,\n",
      "        \"quantile_ranges\": {\n",
      "          \"quantiles\": [\n",
      "            0.25,\n",
      "            0.5,\n",
      "            0.75\n",
      "          ],\n",
      "          \"value_ranges\": [\n",
      "            [\n",
      "              4400.0,\n",
      "              4400.0\n",
      "            ],\n",
      "            [\n",
      "              7700.0,\n",
      "              7700.0\n",
      "            ],\n",
      "            [\n",
      "              9000.0,\n",
      "              9000.0\n",
      "            ]\n",
      "          ]\n",
      "        }\n",
      "      },\n",
      "      \"meta\": {\n",
      "        \"profiler_details\": {\n",
      "          \"metric_configuration\": {\n",
      "            \"metric_name\": \"column.quantile_values\",\n",
      "            \"domain_kwargs\": {\n",
      "              \"column\": \"salary\"\n",
      "            },\n",
      "            \"metric_value_kwargs\": {\n",
      "              \"quantiles\": [\n",
      "                0.25,\n",
      "                0.5,\n",
      "                0.75\n",
      "              ],\n",
      "              \"allow_relative_error\": false\n",
      "            }\n",
      "          },\n",
      "          \"num_batches\": 1\n",
      "        }\n",
      "      },\n",
      "      \"expectation_type\": \"expect_column_quantile_values_to_be_between\"\n",
      "    },\n",
      "    {\n",
      "      \"kwargs\": {\n",
      "        \"strict_max\": false,\n",
      "        \"max_value\": 7750.0,\n",
      "        \"min_value\": 7750.0,\n",
      "        \"column\": \"salary\",\n",
      "        \"strict_min\": false\n",
      "      },\n",
      "      \"meta\": {\n",
      "        \"profiler_details\": {\n",
      "          \"metric_configuration\": {\n",
      "            \"metric_name\": \"column.median\",\n",
      "            \"domain_kwargs\": {\n",
      "              \"column\": \"salary\"\n",
      "            },\n",
      "            \"metric_value_kwargs\": null\n",
      "          },\n",
      "          \"num_batches\": 1\n",
      "        }\n",
      "      },\n",
      "      \"expectation_type\": \"expect_column_median_to_be_between\"\n",
      "    },\n",
      "    {\n",
      "      \"kwargs\": {\n",
      "        \"strict_max\": false,\n",
      "        \"max_value\": 10560.0,\n",
      "        \"min_value\": 10560.0,\n",
      "        \"column\": \"salary\",\n",
      "        \"strict_min\": false\n",
      "      },\n",
      "      \"meta\": {\n",
      "        \"profiler_details\": {\n",
      "          \"metric_configuration\": {\n",
      "            \"metric_name\": \"column.mean\",\n",
      "            \"domain_kwargs\": {\n",
      "              \"column\": \"salary\"\n",
      "            },\n",
      "            \"metric_value_kwargs\": null\n",
      "          },\n",
      "          \"num_batches\": 1\n",
      "        }\n",
      "      },\n",
      "      \"expectation_type\": \"expect_column_mean_to_be_between\"\n",
      "    },\n",
      "    {\n",
      "      \"kwargs\": {\n",
      "        \"strict_max\": false,\n",
      "        \"max_value\": 18782.244752657174,\n",
      "        \"min_value\": 18782.244752657174,\n",
      "        \"column\": \"salary\",\n",
      "        \"strict_min\": false\n",
      "      },\n",
      "      \"meta\": {\n",
      "        \"profiler_details\": {\n",
      "          \"metric_configuration\": {\n",
      "            \"metric_name\": \"column.standard_deviation\",\n",
      "            \"domain_kwargs\": {\n",
      "              \"column\": \"salary\"\n",
      "            },\n",
      "            \"metric_value_kwargs\": null\n",
      "          },\n",
      "          \"num_batches\": 1\n",
      "        }\n",
      "      },\n",
      "      \"expectation_type\": \"expect_column_stdev_to_be_between\"\n",
      "    },\n",
      "    {\n",
      "      \"kwargs\": {\n",
      "        \"strict_max\": false,\n",
      "        \"max_value\": \"1987-06-17T00:00:00\",\n",
      "        \"min_value\": \"1987-06-17T00:00:00\",\n",
      "        \"column\": \"hire_date\",\n",
      "        \"strict_min\": false\n",
      "      },\n",
      "      \"meta\": {\n",
      "        \"profiler_details\": {\n",
      "          \"metric_configuration\": {\n",
      "            \"metric_name\": \"column.min\",\n",
      "            \"domain_kwargs\": {\n",
      "              \"column\": \"hire_date\"\n",
      "            },\n",
      "            \"metric_value_kwargs\": null\n",
      "          },\n",
      "          \"num_batches\": 1\n",
      "        }\n",
      "      },\n",
      "      \"expectation_type\": \"expect_column_min_to_be_between\"\n",
      "    },\n",
      "    {\n",
      "      \"kwargs\": {\n",
      "        \"strict_max\": false,\n",
      "        \"max_value\": \"2000-01-04T00:00:00\",\n",
      "        \"min_value\": \"2000-01-04T00:00:00\",\n",
      "        \"column\": \"hire_date\",\n",
      "        \"strict_min\": false\n",
      "      },\n",
      "      \"meta\": {\n",
      "        \"profiler_details\": {\n",
      "          \"metric_configuration\": {\n",
      "            \"metric_name\": \"column.max\",\n",
      "            \"domain_kwargs\": {\n",
      "              \"column\": \"hire_date\"\n",
      "            },\n",
      "            \"metric_value_kwargs\": null\n",
      "          },\n",
      "          \"num_batches\": 1\n",
      "        }\n",
      "      },\n",
      "      \"expectation_type\": \"expect_column_max_to_be_between\"\n",
      "    },\n",
      "    {\n",
      "      \"kwargs\": {\n",
      "        \"mostly\": 1.0,\n",
      "        \"strict_max\": false,\n",
      "        \"max_value\": \"2000-01-04T00:00:00\",\n",
      "        \"min_value\": \"1987-06-17T00:00:00\",\n",
      "        \"column\": \"hire_date\",\n",
      "        \"strict_min\": false\n",
      "      },\n",
      "      \"meta\": {\n",
      "        \"profiler_details\": {\n",
      "          \"column_min_values_range_estimator\": {\n",
      "            \"metric_configuration\": {\n",
      "              \"metric_name\": \"column.min\",\n",
      "              \"domain_kwargs\": {\n",
      "                \"column\": \"hire_date\"\n",
      "              },\n",
      "              \"metric_value_kwargs\": null\n",
      "            },\n",
      "            \"num_batches\": 1\n",
      "          },\n",
      "          \"column_max_values_range_estimator\": {\n",
      "            \"metric_configuration\": {\n",
      "              \"metric_name\": \"column.max\",\n",
      "              \"domain_kwargs\": {\n",
      "                \"column\": \"hire_date\"\n",
      "              },\n",
      "              \"metric_value_kwargs\": null\n",
      "            },\n",
      "            \"num_batches\": 1\n",
      "          }\n",
      "        }\n",
      "      },\n",
      "      \"expectation_type\": \"expect_column_values_to_be_between\"\n",
      "    },\n",
      "    {\n",
      "      \"kwargs\": {\n",
      "        \"mostly\": 1.0,\n",
      "        \"value_set\": [\n",
      "          \"Adam\",\n",
      "          \"David\",\n",
      "          \"Susan\",\n",
      "          \"Sigal\",\n",
      "          \"Jose Manuel\",\n",
      "          \"Luis\",\n",
      "          \"Alexander\",\n",
      "          \"Hermann\",\n",
      "          \"Karen\",\n",
      "          \"William\",\n",
      "          \"Jonathon\",\n",
      "          \"Sarah\",\n",
      "          \"Matthew\",\n",
      "          \"Pat\",\n",
      "          \"Bruce\",\n",
      "          \"Lex\",\n",
      "          \"Steven\",\n",
      "          \"Charles\",\n",
      "          \"John\",\n",
      "          \"Michael\",\n",
      "          \"Shanta\",\n",
      "          \"Daniel\",\n",
      "          \"Shelli\",\n",
      "          \"Payam\",\n",
      "          \"Britney\",\n",
      "          \"Guy\",\n",
      "          \"Irene\",\n",
      "          \"Jennifer\",\n",
      "          \"Nancy\",\n",
      "          \"Diana\",\n",
      "          \"Den\",\n",
      "          \"Valli\",\n",
      "          \"Neena\",\n",
      "          \"Ismael\",\n",
      "          \"Kimberely\",\n",
      "          \"Jack\",\n",
      "          \"Shelley\"\n",
      "        ],\n",
      "        \"column\": \"first_name\"\n",
      "      },\n",
      "      \"meta\": {\n",
      "        \"profiler_details\": {\n",
      "          \"metric_configuration\": {\n",
      "            \"metric_name\": \"column.distinct_values\",\n",
      "            \"domain_kwargs\": {\n",
      "              \"column\": \"first_name\"\n",
      "            },\n",
      "            \"metric_value_kwargs\": null\n",
      "          },\n",
      "          \"num_batches\": 1,\n",
      "          \"parse_strings_as_datetimes\": false\n",
      "        }\n",
      "      },\n",
      "      \"expectation_type\": \"expect_column_values_to_be_in_set\"\n",
      "    },\n",
      "    {\n",
      "      \"kwargs\": {\n",
      "        \"strict_max\": false,\n",
      "        \"max_value\": 37,\n",
      "        \"min_value\": 37,\n",
      "        \"column\": \"first_name\",\n",
      "        \"strict_min\": false\n",
      "      },\n",
      "      \"meta\": {\n",
      "        \"profiler_details\": {\n",
      "          \"metric_configuration\": {\n",
      "            \"metric_name\": \"column.distinct_values.count\",\n",
      "            \"domain_kwargs\": {\n",
      "              \"column\": \"first_name\"\n",
      "            },\n",
      "            \"metric_value_kwargs\": null\n",
      "          },\n",
      "          \"num_batches\": 1\n",
      "        }\n",
      "      },\n",
      "      \"expectation_type\": \"expect_column_unique_value_count_to_be_between\"\n",
      "    },\n",
      "    {\n",
      "      \"kwargs\": {\n",
      "        \"strict_max\": false,\n",
      "        \"max_value\": 0.925,\n",
      "        \"min_value\": 0.925,\n",
      "        \"column\": \"first_name\",\n",
      "        \"strict_min\": false\n",
      "      },\n",
      "      \"meta\": {\n",
      "        \"profiler_details\": {\n",
      "          \"metric_configuration\": {\n",
      "            \"metric_name\": \"column.unique_proportion\",\n",
      "            \"domain_kwargs\": {\n",
      "              \"column\": \"first_name\"\n",
      "            },\n",
      "            \"metric_value_kwargs\": null\n",
      "          },\n",
      "          \"num_batches\": 1\n",
      "        }\n",
      "      },\n",
      "      \"expectation_type\": \"expect_column_proportion_of_unique_values_to_be_between\"\n",
      "    },\n",
      "    {\n",
      "      \"kwargs\": {\n",
      "        \"mostly\": 1.0,\n",
      "        \"value_set\": [\n",
      "          \"Russell\",\n",
      "          \"Urman\",\n",
      "          \"Grant\",\n",
      "          \"Mikkilineni\",\n",
      "          \"Fay\",\n",
      "          \"Hartstein\",\n",
      "          \"Partners\",\n",
      "          \"Bell\",\n",
      "          \"Raphaely\",\n",
      "          \"Ernst\",\n",
      "          \"Higgins\",\n",
      "          \"Popp\",\n",
      "          \"Taylor\",\n",
      "          \"Faviet\",\n",
      "          \"Whalen\",\n",
      "          \"Chen\",\n",
      "          \"King\",\n",
      "          \"De Haan\",\n",
      "          \"Lorentz\",\n",
      "          \"Everett\",\n",
      "          \"Hunold\",\n",
      "          \"Vollman\",\n",
      "          \"Baer\",\n",
      "          \"Tobias\",\n",
      "          \"Kochhar\",\n",
      "          \"Weiss\",\n",
      "          \"Fripp\",\n",
      "          \"Sciarra\",\n",
      "          \"Austin\",\n",
      "          \"Himuro\",\n",
      "          \"Khoo\",\n",
      "          \"Mavris\",\n",
      "          \"Livingston\",\n",
      "          \"Colmenares\",\n",
      "          \"Pataballa\",\n",
      "          \"Johnson\",\n",
      "          \"Baida\",\n",
      "          \"Kaufling\",\n",
      "          \"Greenberg\",\n",
      "          \"Gietz\"\n",
      "        ],\n",
      "        \"column\": \"last_name\"\n",
      "      },\n",
      "      \"meta\": {\n",
      "        \"profiler_details\": {\n",
      "          \"metric_configuration\": {\n",
      "            \"metric_name\": \"column.distinct_values\",\n",
      "            \"domain_kwargs\": {\n",
      "              \"column\": \"last_name\"\n",
      "            },\n",
      "            \"metric_value_kwargs\": null\n",
      "          },\n",
      "          \"num_batches\": 1,\n",
      "          \"parse_strings_as_datetimes\": false\n",
      "        }\n",
      "      },\n",
      "      \"expectation_type\": \"expect_column_values_to_be_in_set\"\n",
      "    },\n",
      "    {\n",
      "      \"kwargs\": {\n",
      "        \"strict_max\": false,\n",
      "        \"max_value\": 40,\n",
      "        \"min_value\": 40,\n",
      "        \"column\": \"last_name\",\n",
      "        \"strict_min\": false\n",
      "      },\n",
      "      \"meta\": {\n",
      "        \"profiler_details\": {\n",
      "          \"metric_configuration\": {\n",
      "            \"metric_name\": \"column.distinct_values.count\",\n",
      "            \"domain_kwargs\": {\n",
      "              \"column\": \"last_name\"\n",
      "            },\n",
      "            \"metric_value_kwargs\": null\n",
      "          },\n",
      "          \"num_batches\": 1\n",
      "        }\n",
      "      },\n",
      "      \"expectation_type\": \"expect_column_unique_value_count_to_be_between\"\n",
      "    },\n",
      "    {\n",
      "      \"kwargs\": {\n",
      "        \"strict_max\": false,\n",
      "        \"max_value\": 1.0,\n",
      "        \"min_value\": 1.0,\n",
      "        \"column\": \"last_name\",\n",
      "        \"strict_min\": false\n",
      "      },\n",
      "      \"meta\": {\n",
      "        \"profiler_details\": {\n",
      "          \"metric_configuration\": {\n",
      "            \"metric_name\": \"column.unique_proportion\",\n",
      "            \"domain_kwargs\": {\n",
      "              \"column\": \"last_name\"\n",
      "            },\n",
      "            \"metric_value_kwargs\": null\n",
      "          },\n",
      "          \"num_batches\": 1\n",
      "        }\n",
      "      },\n",
      "      \"expectation_type\": \"expect_column_proportion_of_unique_values_to_be_between\"\n",
      "    },\n",
      "    {\n",
      "      \"kwargs\": {\n",
      "        \"mostly\": 1.0,\n",
      "        \"value_set\": [\n",
      "          \"michael.hartstein@sqltutorial.org\",\n",
      "          \"shelley.higgins@sqltutorial.org\",\n",
      "          \"luis.popp@sqltutorial.org\",\n",
      "          \"jose manuel.urman@sqltutorial.org\",\n",
      "          \"jonathon.taylor@sqltutorial.org\",\n",
      "          \"adam.fripp@sqltutorial.org\",\n",
      "          \"alexander.khoo@sqltutorial.org\",\n",
      "          \"alexander.hunold@sqltutorial.org\",\n",
      "          \"susan.mavris@sqltutorial.org\",\n",
      "          \"david.austin@sqltutorial.org\",\n",
      "          \"pat.fay@sqltutorial.org\",\n",
      "          \"nancy.greenberg@sqltutorial.org\",\n",
      "          \"sarah.bell@sqltutorial.org\",\n",
      "          \"sigal.tobias@sqltutorial.org\",\n",
      "          \"steven.king@sqltutorial.org\",\n",
      "          \"karen.partners@sqltutorial.org\",\n",
      "          \"matthew.weiss@sqltutorial.org\",\n",
      "          \"daniel.faviet@sqltutorial.org\",\n",
      "          \"neena.kochhar@sqltutorial.org\",\n",
      "          \"ismael.sciarra@sqltutorial.org\",\n",
      "          \"jack.livingston@sqltutorial.org\",\n",
      "          \"jennifer.whalen@sqltutorial.org\",\n",
      "          \"lex.de haan@sqltutorial.org\",\n",
      "          \"britney.everett@sqltutorial.org\",\n",
      "          \"guy.himuro@sqltutorial.org\",\n",
      "          \"hermann.baer@sqltutorial.org\",\n",
      "          \"irene.mikkilineni@sqltutorial.org\",\n",
      "          \"den.raphaely@sqltutorial.org\",\n",
      "          \"kimberely.grant@sqltutorial.org\",\n",
      "          \"bruce.ernst@sqltutorial.org\",\n",
      "          \"john.russell@sqltutorial.org\",\n",
      "          \"karen.colmenares@sqltutorial.org\",\n",
      "          \"shelli.baida@sqltutorial.org\",\n",
      "          \"payam.kaufling@sqltutorial.org\",\n",
      "          \"charles.johnson@sqltutorial.org\",\n",
      "          \"shanta.vollman@sqltutorial.org\",\n",
      "          \"valli.pataballa@sqltutorial.org\",\n",
      "          \"john.chen@sqltutorial.org\",\n",
      "          \"diana.lorentz@sqltutorial.org\",\n",
      "          \"william.gietz@sqltutorial.org\"\n",
      "        ],\n",
      "        \"column\": \"email\"\n",
      "      },\n",
      "      \"meta\": {\n",
      "        \"profiler_details\": {\n",
      "          \"metric_configuration\": {\n",
      "            \"metric_name\": \"column.distinct_values\",\n",
      "            \"domain_kwargs\": {\n",
      "              \"column\": \"email\"\n",
      "            },\n",
      "            \"metric_value_kwargs\": null\n",
      "          },\n",
      "          \"num_batches\": 1,\n",
      "          \"parse_strings_as_datetimes\": false\n",
      "        }\n",
      "      },\n",
      "      \"expectation_type\": \"expect_column_values_to_be_in_set\"\n",
      "    },\n",
      "    {\n",
      "      \"kwargs\": {\n",
      "        \"strict_max\": false,\n",
      "        \"max_value\": 40,\n",
      "        \"min_value\": 40,\n",
      "        \"column\": \"email\",\n",
      "        \"strict_min\": false\n",
      "      },\n",
      "      \"meta\": {\n",
      "        \"profiler_details\": {\n",
      "          \"metric_configuration\": {\n",
      "            \"metric_name\": \"column.distinct_values.count\",\n",
      "            \"domain_kwargs\": {\n",
      "              \"column\": \"email\"\n",
      "            },\n",
      "            \"metric_value_kwargs\": null\n",
      "          },\n",
      "          \"num_batches\": 1\n",
      "        }\n",
      "      },\n",
      "      \"expectation_type\": \"expect_column_unique_value_count_to_be_between\"\n",
      "    },\n",
      "    {\n",
      "      \"kwargs\": {\n",
      "        \"strict_max\": false,\n",
      "        \"max_value\": 1.0,\n",
      "        \"min_value\": 1.0,\n",
      "        \"column\": \"email\",\n",
      "        \"strict_min\": false\n",
      "      },\n",
      "      \"meta\": {\n",
      "        \"profiler_details\": {\n",
      "          \"metric_configuration\": {\n",
      "            \"metric_name\": \"column.unique_proportion\",\n",
      "            \"domain_kwargs\": {\n",
      "              \"column\": \"email\"\n",
      "            },\n",
      "            \"metric_value_kwargs\": null\n",
      "          },\n",
      "          \"num_batches\": 1\n",
      "        }\n",
      "      },\n",
      "      \"expectation_type\": \"expect_column_proportion_of_unique_values_to_be_between\"\n",
      "    },\n",
      "    {\n",
      "      \"kwargs\": {\n",
      "        \"mostly\": 1.0,\n",
      "        \"value_set\": [\n",
      "          \"515.124.4269\",\n",
      "          \"590.423.5567\",\n",
      "          \"590.423.4569\",\n",
      "          \"515.124.4469\",\n",
      "          \"515.123.4568\",\n",
      "          \"650.123.2234\",\n",
      "          \"515.127.4561\",\n",
      "          \"650.123.3234\",\n",
      "          \"515.123.7777\",\n",
      "          \"515.123.4444\",\n",
      "          \"515.123.4567\",\n",
      "          \"515.127.4562\",\n",
      "          \"515.123.8888\",\n",
      "          \"515.127.4565\",\n",
      "          \"650.501.2876\",\n",
      "          \"603.123.6666\",\n",
      "          \"515.124.4569\",\n",
      "          \"515.123.5555\",\n",
      "          \"650.123.1234\",\n",
      "          \"590.423.4568\",\n",
      "          \"515.124.4567\",\n",
      "          \"515.127.4563\",\n",
      "          \"590.423.4560\",\n",
      "          \"515.124.4369\",\n",
      "          \"515.123.4569\",\n",
      "          \"515.127.4564\",\n",
      "          \"590.423.4567\",\n",
      "          \"650.123.4234\",\n",
      "          \"515.124.4169\",\n",
      "          \"515.123.8181\",\n",
      "          \"650.124.1224\",\n",
      "          \"650.501.1876\",\n",
      "          \"515.127.4566\",\n",
      "          \"515.123.8080\"\n",
      "        ],\n",
      "        \"column\": \"phone_number\"\n",
      "      },\n",
      "      \"meta\": {\n",
      "        \"profiler_details\": {\n",
      "          \"metric_configuration\": {\n",
      "            \"metric_name\": \"column.distinct_values\",\n",
      "            \"domain_kwargs\": {\n",
      "              \"column\": \"phone_number\"\n",
      "            },\n",
      "            \"metric_value_kwargs\": null\n",
      "          },\n",
      "          \"num_batches\": 1,\n",
      "          \"parse_strings_as_datetimes\": false\n",
      "        }\n",
      "      },\n",
      "      \"expectation_type\": \"expect_column_values_to_be_in_set\"\n",
      "    },\n",
      "    {\n",
      "      \"kwargs\": {\n",
      "        \"strict_max\": false,\n",
      "        \"max_value\": 34,\n",
      "        \"min_value\": 34,\n",
      "        \"column\": \"phone_number\",\n",
      "        \"strict_min\": false\n",
      "      },\n",
      "      \"meta\": {\n",
      "        \"profiler_details\": {\n",
      "          \"metric_configuration\": {\n",
      "            \"metric_name\": \"column.distinct_values.count\",\n",
      "            \"domain_kwargs\": {\n",
      "              \"column\": \"phone_number\"\n",
      "            },\n",
      "            \"metric_value_kwargs\": null\n",
      "          },\n",
      "          \"num_batches\": 1\n",
      "        }\n",
      "      },\n",
      "      \"expectation_type\": \"expect_column_unique_value_count_to_be_between\"\n",
      "    },\n",
      "    {\n",
      "      \"kwargs\": {\n",
      "        \"strict_max\": false,\n",
      "        \"max_value\": 1.0,\n",
      "        \"min_value\": 1.0,\n",
      "        \"column\": \"phone_number\",\n",
      "        \"strict_min\": false\n",
      "      },\n",
      "      \"meta\": {\n",
      "        \"profiler_details\": {\n",
      "          \"metric_configuration\": {\n",
      "            \"metric_name\": \"column.unique_proportion\",\n",
      "            \"domain_kwargs\": {\n",
      "              \"column\": \"phone_number\"\n",
      "            },\n",
      "            \"metric_value_kwargs\": null\n",
      "          },\n",
      "          \"num_batches\": 1\n",
      "        }\n",
      "      },\n",
      "      \"expectation_type\": \"expect_column_proportion_of_unique_values_to_be_between\"\n",
      "    },\n",
      "    {\n",
      "      \"kwargs\": {\n",
      "        \"strict_max\": false,\n",
      "        \"max_value\": 37,\n",
      "        \"min_value\": 37,\n",
      "        \"column\": \"hire_date\",\n",
      "        \"strict_min\": false\n",
      "      },\n",
      "      \"meta\": {\n",
      "        \"profiler_details\": {\n",
      "          \"metric_configuration\": {\n",
      "            \"metric_name\": \"column.distinct_values.count\",\n",
      "            \"domain_kwargs\": {\n",
      "              \"column\": \"hire_date\"\n",
      "            },\n",
      "            \"metric_value_kwargs\": null\n",
      "          },\n",
      "          \"num_batches\": 1\n",
      "        }\n",
      "      },\n",
      "      \"expectation_type\": \"expect_column_unique_value_count_to_be_between\"\n",
      "    },\n",
      "    {\n",
      "      \"kwargs\": {\n",
      "        \"strict_max\": false,\n",
      "        \"max_value\": 0.925,\n",
      "        \"min_value\": 0.925,\n",
      "        \"column\": \"hire_date\",\n",
      "        \"strict_min\": false\n",
      "      },\n",
      "      \"meta\": {\n",
      "        \"profiler_details\": {\n",
      "          \"metric_configuration\": {\n",
      "            \"metric_name\": \"column.unique_proportion\",\n",
      "            \"domain_kwargs\": {\n",
      "              \"column\": \"hire_date\"\n",
      "            },\n",
      "            \"metric_value_kwargs\": null\n",
      "          },\n",
      "          \"num_batches\": 1\n",
      "        }\n",
      "      },\n",
      "      \"expectation_type\": \"expect_column_proportion_of_unique_values_to_be_between\"\n",
      "    },\n",
      "    {\n",
      "      \"kwargs\": {\n",
      "        \"mostly\": 1.0,\n",
      "        \"value_set\": [\n",
      "          8200.0,\n",
      "          2700.0,\n",
      "          10000.0,\n",
      "          7700.0,\n",
      "          8600.0,\n",
      "          3100.0,\n",
      "          4000.0,\n",
      "          2600.0,\n",
      "          9000.0,\n",
      "          4400.0,\n",
      "          11000.0,\n",
      "          14000.0,\n",
      "          6200.0,\n",
      "          3900.0,\n",
      "          13500.0,\n",
      "          4800.0,\n",
      "          8000.0,\n",
      "          2500.0,\n",
      "          13000.0,\n",
      "          8400.0,\n",
      "          2900.0,\n",
      "          7000.0,\n",
      "          7900.0,\n",
      "          12000.0,\n",
      "          124000.0,\n",
      "          6500.0,\n",
      "          4200.0,\n",
      "          17000.0,\n",
      "          8300.0,\n",
      "          2800.0,\n",
      "          6000.0,\n",
      "          6900.0,\n",
      "          7800.0\n",
      "        ],\n",
      "        \"column\": \"salary\"\n",
      "      },\n",
      "      \"meta\": {\n",
      "        \"profiler_details\": {\n",
      "          \"metric_configuration\": {\n",
      "            \"metric_name\": \"column.distinct_values\",\n",
      "            \"domain_kwargs\": {\n",
      "              \"column\": \"salary\"\n",
      "            },\n",
      "            \"metric_value_kwargs\": null\n",
      "          },\n",
      "          \"num_batches\": 1,\n",
      "          \"parse_strings_as_datetimes\": false\n",
      "        }\n",
      "      },\n",
      "      \"expectation_type\": \"expect_column_values_to_be_in_set\"\n",
      "    },\n",
      "    {\n",
      "      \"kwargs\": {\n",
      "        \"strict_max\": false,\n",
      "        \"max_value\": 33,\n",
      "        \"min_value\": 33,\n",
      "        \"column\": \"salary\",\n",
      "        \"strict_min\": false\n",
      "      },\n",
      "      \"meta\": {\n",
      "        \"profiler_details\": {\n",
      "          \"metric_configuration\": {\n",
      "            \"metric_name\": \"column.distinct_values.count\",\n",
      "            \"domain_kwargs\": {\n",
      "              \"column\": \"salary\"\n",
      "            },\n",
      "            \"metric_value_kwargs\": null\n",
      "          },\n",
      "          \"num_batches\": 1\n",
      "        }\n",
      "      },\n",
      "      \"expectation_type\": \"expect_column_unique_value_count_to_be_between\"\n",
      "    },\n",
      "    {\n",
      "      \"kwargs\": {\n",
      "        \"strict_max\": false,\n",
      "        \"max_value\": 0.825,\n",
      "        \"min_value\": 0.825,\n",
      "        \"column\": \"salary\",\n",
      "        \"strict_min\": false\n",
      "      },\n",
      "      \"meta\": {\n",
      "        \"profiler_details\": {\n",
      "          \"metric_configuration\": {\n",
      "            \"metric_name\": \"column.unique_proportion\",\n",
      "            \"domain_kwargs\": {\n",
      "              \"column\": \"salary\"\n",
      "            },\n",
      "            \"metric_value_kwargs\": null\n",
      "          },\n",
      "          \"num_batches\": 1\n",
      "        }\n",
      "      },\n",
      "      \"expectation_type\": \"expect_column_proportion_of_unique_values_to_be_between\"\n",
      "    }\n",
      "  ]\n",
      "}\n",
      "2023-05-10T22:21:07+0200 - INFO - \t37 expectation(s) included in expectation_suite.\n"
     ]
    },
    {
     "name": "stdout",
     "output_type": "stream",
     "text": [
      "2023-05-10T22:21:07+0200 - INFO - \t37 expectation(s) included in expectation_suite.\n"
     ]
    },
    {
     "data": {
      "application/vnd.jupyter.widget-view+json": {
       "model_id": "ae1993f1b6c74015b4072504a0148bb7",
       "version_major": 2,
       "version_minor": 0
      },
      "text/plain": [
       "Calculating Metrics:   0%|          | 0/130 [00:00<?, ?it/s]"
      ]
     },
     "metadata": {},
     "output_type": "display_data"
    }
   ],
   "source": [
    "print(validator.get_expectation_suite(discard_failed_expectations=False))\n",
    "validator.save_expectation_suite(discard_failed_expectations=False)\n",
    "\n",
    "checkpoint_config = {\n",
    "    \"class_name\": \"SimpleCheckpoint\",\n",
    "    \"validations\": [\n",
    "        {\n",
    "            \"batch_request\": batch_request,\n",
    "            \"expectation_suite_name\": expectation_suite_name\n",
    "        }\n",
    "    ]\n",
    "}\n",
    "checkpoint = SimpleCheckpoint(\n",
    "    f\"{validator.active_batch_definition.data_asset_name}_{expectation_suite_name}\",\n",
    "    context,\n",
    "    **checkpoint_config\n",
    ")\n",
    "checkpoint_result = checkpoint.run()\n",
    "\n",
    "context.build_data_docs()\n",
    "\n",
    "validation_result_identifier = checkpoint_result.list_validation_result_identifiers()[0]\n",
    "context.open_data_docs(resource_identifier=validation_result_identifier)"
   ]
  },
  {
   "cell_type": "markdown",
   "id": "a9c5518a",
   "metadata": {},
   "source": [
    "## Next steps\n",
    "After you review this initial Expectation Suite in Data Docs you\n",
    "should edit this suite to make finer grained adjustments to the expectations.\n",
    "This can be done by running `great_expectations suite edit employees_suite`."
   ]
  }
 ],
 "metadata": {
  "kernelspec": {
   "display_name": "Python 3 (ipykernel)",
   "language": "python",
   "name": "python3"
  },
  "language_info": {
   "codemirror_mode": {
    "name": "ipython",
    "version": 3
   },
   "file_extension": ".py",
   "mimetype": "text/x-python",
   "name": "python",
   "nbconvert_exporter": "python",
   "pygments_lexer": "ipython3",
   "version": "3.10.8"
  }
 },
 "nbformat": 4,
 "nbformat_minor": 5
}
